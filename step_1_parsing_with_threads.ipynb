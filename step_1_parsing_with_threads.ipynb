{
 "cells": [
  {
   "cell_type": "markdown",
   "metadata": {},
   "source": [
    "# Parse Tweets\n",
    "Instead of using NLTK to tokenize/lemmatize documents, spacy is used in this notebook.\n",
    "\n",
    "Reference: https://www.kaggle.com/pierremegret/gensim-word2vec-tutorial"
   ]
  },
  {
   "cell_type": "code",
   "execution_count": 1,
   "metadata": {},
   "outputs": [
    {
     "name": "stdout",
     "output_type": "stream",
     "text": [
      "Requirement already satisfied: en_core_web_sm==2.1.0 from https://github.com/explosion/spacy-models/releases/download/en_core_web_sm-2.1.0/en_core_web_sm-2.1.0.tar.gz#egg=en_core_web_sm==2.1.0 in /home/ec2-user/anaconda3/lib/python3.7/site-packages (2.1.0)\n",
      "\u001b[38;5;2m✔ Download and installation successful\u001b[0m\n",
      "You can now load the model via spacy.load('en_core_web_sm')\n",
      "\u001b[2K\u001b[38;5;2m✔ Loaded compatibility table\u001b[0m\n",
      "\u001b[1m\n",
      "====================== Installed models (spaCy v2.1.4) ======================\u001b[0m\n",
      "\u001b[38;5;4mℹ spaCy installation:\n",
      "/home/ec2-user/anaconda3/lib/python3.7/site-packages/spacy\u001b[0m\n",
      "\n",
      "TYPE      NAME             MODEL            VERSION                            \n",
      "package   en-core-web-sm   en_core_web_sm   \u001b[38;5;2m2.1.0\u001b[0m   \u001b[38;5;2m✔\u001b[0m\n",
      "\n"
     ]
    }
   ],
   "source": [
    "!python -m spacy download en_core_web_sm\n",
    "!python -m spacy validate"
   ]
  },
  {
   "cell_type": "code",
   "execution_count": 2,
   "metadata": {},
   "outputs": [],
   "source": [
    "import pandas as pd\n",
    "import spacy"
   ]
  },
  {
   "cell_type": "markdown",
   "metadata": {},
   "source": [
    "# Read Dataset"
   ]
  },
  {
   "cell_type": "code",
   "execution_count": 3,
   "metadata": {},
   "outputs": [],
   "source": [
    "def read_dataset(filename):\n",
    "    dataset_df = pd.read_csv(filename, error_bad_lines=False)\n",
    "    \n",
    "    dataset = dataset_df['text']\n",
    "    \n",
    "    return dataset"
   ]
  },
  {
   "cell_type": "code",
   "execution_count": 4,
   "metadata": {},
   "outputs": [],
   "source": [
    "filename_dataset = './datasets/twitter_trump_2019_0101-2019_0531.csv'\n",
    "raw_docs = read_dataset(filename_dataset)"
   ]
  },
  {
   "cell_type": "code",
   "execution_count": 5,
   "metadata": {},
   "outputs": [
    {
     "data": {
      "text/plain": [
       "2125"
      ]
     },
     "execution_count": 5,
     "metadata": {},
     "output_type": "execute_result"
    }
   ],
   "source": [
    "len(raw_docs)"
   ]
  },
  {
   "cell_type": "code",
   "execution_count": 6,
   "metadata": {},
   "outputs": [
    {
     "data": {
      "text/plain": [
       "'Robert Mueller came to the Oval Office (along with other potential candidates) seeking to be named the Director of the FBI. He had already been in that position for 12 years I told him NO. The next day he was named Special Counsel - A total Conflict of Interest. NICE!'"
      ]
     },
     "execution_count": 6,
     "metadata": {},
     "output_type": "execute_result"
    }
   ],
   "source": [
    "raw_docs[0]"
   ]
  },
  {
   "cell_type": "code",
   "execution_count": 7,
   "metadata": {},
   "outputs": [
    {
     "data": {
      "text/plain": [
       "'“Comey and Brennan are turning on each other.”  @kilmeade'"
      ]
     },
     "execution_count": 7,
     "metadata": {},
     "output_type": "execute_result"
    }
   ],
   "source": [
    "raw_docs[1]"
   ]
  },
  {
   "cell_type": "markdown",
   "metadata": {},
   "source": [
    "# Test Spacy"
   ]
  },
  {
   "cell_type": "markdown",
   "metadata": {},
   "source": [
    "### Tagger (Fine-Grained POS) + Parser + Named Entity Recognizer"
   ]
  },
  {
   "cell_type": "code",
   "execution_count": 8,
   "metadata": {},
   "outputs": [],
   "source": [
    "nlp = spacy.load('en_core_web_sm')"
   ]
  },
  {
   "cell_type": "code",
   "execution_count": 9,
   "metadata": {},
   "outputs": [
    {
     "data": {
      "text/plain": [
       "[('tagger', <spacy.pipeline.pipes.Tagger at 0x7f7039a437b8>),\n",
       " ('parser', <spacy.pipeline.pipes.DependencyParser at 0x7f70375c4fa8>),\n",
       " ('ner', <spacy.pipeline.pipes.EntityRecognizer at 0x7f70375e1048>)]"
      ]
     },
     "execution_count": 9,
     "metadata": {},
     "output_type": "execute_result"
    }
   ],
   "source": [
    "nlp.pipeline"
   ]
  },
  {
   "cell_type": "code",
   "execution_count": 10,
   "metadata": {},
   "outputs": [],
   "source": [
    "index_doc = 0\n",
    "\n",
    "doc = nlp(raw_docs[index_doc])"
   ]
  },
  {
   "cell_type": "code",
   "execution_count": 11,
   "metadata": {},
   "outputs": [
    {
     "name": "stdout",
     "output_type": "stream",
     "text": [
      "['Robert', 'Mueller', 'came', 'to', 'the', 'Oval', 'Office', '(', 'along', 'with', 'other', 'potential', 'candidates', ')', 'seeking', 'to', 'be', 'named', 'the', 'Director', 'of', 'the', 'FBI', '.', 'He', 'had', 'already', 'been', 'in', 'that', 'position', 'for', '12', 'years', 'I', 'told', 'him', 'NO', '.', 'The', 'next', 'day', 'he', 'was', 'named', 'Special', 'Counsel', '-', 'A', 'total', 'Conflict', 'of', 'Interest', '.', 'NICE', '!']\n"
     ]
    }
   ],
   "source": [
    "print([t.text for t in doc])"
   ]
  },
  {
   "cell_type": "code",
   "execution_count": 12,
   "metadata": {},
   "outputs": [
    {
     "data": {
      "text/plain": [
       "[('Robert Mueller', 'PERSON'),\n",
       " ('the Oval Office', 'ORG'),\n",
       " ('FBI', 'ORG'),\n",
       " ('12 years', 'DATE'),\n",
       " ('The next day', 'DATE'),\n",
       " ('Special Counsel - A', 'ORG'),\n",
       " ('Conflict of Interest', 'ORG')]"
      ]
     },
     "execution_count": 12,
     "metadata": {},
     "output_type": "execute_result"
    }
   ],
   "source": [
    "# show named entity\n",
    "[(ent.text, ent.label_) for ent in doc.ents]"
   ]
  },
  {
   "cell_type": "markdown",
   "metadata": {},
   "source": [
    "### Disable NER (Named Entity Parser)"
   ]
  },
  {
   "cell_type": "code",
   "execution_count": 13,
   "metadata": {},
   "outputs": [
    {
     "data": {
      "text/plain": [
       "[('tagger', <spacy.pipeline.pipes.Tagger at 0x7f7037374860>),\n",
       " ('parser', <spacy.pipeline.pipes.DependencyParser at 0x7f70372cce28>)]"
      ]
     },
     "execution_count": 13,
     "metadata": {},
     "output_type": "execute_result"
    }
   ],
   "source": [
    "nlp = spacy.load('en_core_web_sm', disable=['ner'])\n",
    "nlp.pipeline"
   ]
  },
  {
   "cell_type": "code",
   "execution_count": 14,
   "metadata": {},
   "outputs": [],
   "source": [
    "index_doc = 0\n",
    "\n",
    "doc = nlp(raw_docs[index_doc])"
   ]
  },
  {
   "cell_type": "code",
   "execution_count": 15,
   "metadata": {},
   "outputs": [
    {
     "data": {
      "text/plain": [
       "[]"
      ]
     },
     "execution_count": 15,
     "metadata": {},
     "output_type": "execute_result"
    }
   ],
   "source": [
    "[(ent.text, ent.label_) for ent in doc.ents]"
   ]
  },
  {
   "cell_type": "code",
   "execution_count": 16,
   "metadata": {
    "scrolled": true
   },
   "outputs": [
    {
     "name": "stdout",
     "output_type": "stream",
     "text": [
      "['Robert', 'Mueller', 'came', 'to', 'the', 'Oval', 'Office', '(', 'along', 'with', 'other', 'potential', 'candidates', ')', 'seeking', 'to', 'be', 'named', 'the', 'Director', 'of', 'the', 'FBI', '.', 'He', 'had', 'already', 'been', 'in', 'that', 'position', 'for', '12', 'years', 'I', 'told', 'him', 'NO', '.', 'The', 'next', 'day', 'he', 'was', 'named', 'Special', 'Counsel', '-', 'A', 'total', 'Conflict', 'of', 'Interest', '.', 'NICE', '!']\n"
     ]
    }
   ],
   "source": [
    "print([t.text for t in doc])"
   ]
  },
  {
   "cell_type": "markdown",
   "metadata": {},
   "source": [
    "# Test Disable Some Pipelines"
   ]
  },
  {
   "cell_type": "markdown",
   "metadata": {},
   "source": [
    "# Disable Tagger (POS)"
   ]
  },
  {
   "cell_type": "code",
   "execution_count": 52,
   "metadata": {},
   "outputs": [
    {
     "data": {
      "text/plain": [
       "[('parser', <spacy.pipeline.pipes.DependencyParser at 0x7f7035a712e8>),\n",
       " ('ner', <spacy.pipeline.pipes.EntityRecognizer at 0x7f7035a71348>)]"
      ]
     },
     "execution_count": 52,
     "metadata": {},
     "output_type": "execute_result"
    }
   ],
   "source": [
    "nlp = spacy.load('en_core_web_sm', disable=['tagger'])\n",
    "nlp.pipeline"
   ]
  },
  {
   "cell_type": "code",
   "execution_count": 53,
   "metadata": {},
   "outputs": [],
   "source": [
    "index_doc = 0\n",
    "doc = nlp(raw_docs[index_doc])"
   ]
  },
  {
   "cell_type": "code",
   "execution_count": 54,
   "metadata": {},
   "outputs": [
    {
     "name": "stdout",
     "output_type": "stream",
     "text": [
      "['Robert', 'Mueller', 'come', 'to', 'the', 'Oval', 'Office', '(', 'along', 'with', 'other', 'potential', 'candidate', ')', 'seek', 'to', 'be', 'name', 'the', 'Director', 'of', 'the', 'FBI', '.', 'He', 'have', 'already', 'be', 'in', 'that', 'position', 'for', '12', 'year', 'I', 'tell', 'him', 'NO', '.', 'The', 'next', 'day', 'he', 'be', 'name', 'Special', 'Counsel', '-', 'A', 'total', 'Conflict', 'of', 'Interest', '.', 'NICE', '!']\n"
     ]
    }
   ],
   "source": [
    "print([t.lemma_ for t in doc])"
   ]
  },
  {
   "cell_type": "code",
   "execution_count": 55,
   "metadata": {},
   "outputs": [
    {
     "data": {
      "text/plain": [
       "[('Robert Mueller', 'PERSON'),\n",
       " ('the Oval Office', 'ORG'),\n",
       " ('FBI', 'ORG'),\n",
       " ('12 years', 'DATE'),\n",
       " ('The next day', 'DATE'),\n",
       " ('Special Counsel - A', 'ORG'),\n",
       " ('Conflict of Interest', 'ORG')]"
      ]
     },
     "execution_count": 55,
     "metadata": {},
     "output_type": "execute_result"
    }
   ],
   "source": [
    "[(ent.text, ent.label_) for ent in doc.ents]"
   ]
  },
  {
   "cell_type": "code",
   "execution_count": 56,
   "metadata": {},
   "outputs": [
    {
     "name": "stdout",
     "output_type": "stream",
     "text": [
      "[('Robert', ''), ('Mueller', ''), ('came', ''), ('to', ''), ('the', ''), ('Oval', ''), ('Office', ''), ('(', ''), ('along', ''), ('with', ''), ('other', ''), ('potential', ''), ('candidates', ''), (')', ''), ('seeking', ''), ('to', ''), ('be', ''), ('named', ''), ('the', ''), ('Director', ''), ('of', ''), ('the', ''), ('FBI', ''), ('.', ''), ('He', ''), ('had', ''), ('already', ''), ('been', ''), ('in', ''), ('that', ''), ('position', ''), ('for', ''), ('12', ''), ('years', ''), ('I', ''), ('told', ''), ('him', ''), ('NO', ''), ('.', ''), ('The', ''), ('next', ''), ('day', ''), ('he', ''), ('was', ''), ('named', ''), ('Special', ''), ('Counsel', ''), ('-', ''), ('A', ''), ('total', ''), ('Conflict', ''), ('of', ''), ('Interest', ''), ('.', ''), ('NICE', ''), ('!', '')]\n"
     ]
    }
   ],
   "source": [
    "print([(token.text, token.pos_) for token in doc])"
   ]
  },
  {
   "cell_type": "markdown",
   "metadata": {},
   "source": [
    "### Disable Parser"
   ]
  },
  {
   "cell_type": "code",
   "execution_count": 44,
   "metadata": {},
   "outputs": [
    {
     "data": {
      "text/plain": [
       "[('tagger', <spacy.pipeline.pipes.Tagger at 0x7f7035927a90>),\n",
       " ('ner', <spacy.pipeline.pipes.EntityRecognizer at 0x7f7035514108>)]"
      ]
     },
     "execution_count": 44,
     "metadata": {},
     "output_type": "execute_result"
    }
   ],
   "source": [
    "nlp = spacy.load('en_core_web_sm', disable=['parser'])\n",
    "nlp.pipeline"
   ]
  },
  {
   "cell_type": "code",
   "execution_count": 18,
   "metadata": {},
   "outputs": [
    {
     "data": {
      "text/plain": [
       "spacy.lang.en.English"
      ]
     },
     "execution_count": 18,
     "metadata": {},
     "output_type": "execute_result"
    }
   ],
   "source": [
    "type(nlp)"
   ]
  },
  {
   "cell_type": "code",
   "execution_count": 19,
   "metadata": {},
   "outputs": [],
   "source": [
    "index_doc = 0\n",
    "\n",
    "doc = nlp(raw_docs[index_doc])"
   ]
  },
  {
   "cell_type": "code",
   "execution_count": 20,
   "metadata": {},
   "outputs": [
    {
     "data": {
      "text/plain": [
       "spacy.tokens.doc.Doc"
      ]
     },
     "execution_count": 20,
     "metadata": {},
     "output_type": "execute_result"
    }
   ],
   "source": [
    "type(doc)"
   ]
  },
  {
   "cell_type": "code",
   "execution_count": 45,
   "metadata": {},
   "outputs": [
    {
     "name": "stdout",
     "output_type": "stream",
     "text": [
      "['Robert', 'Mueller', 'come', 'to', 'the', 'Oval', 'Office', '(', 'along', 'with', 'other', 'potential', 'candidate', ')', 'seek', 'to', 'be', 'name', 'the', 'Director', 'of', 'the', 'FBI', '.', '-PRON-', 'have', 'already', 'be', 'in', 'that', 'position', 'for', '12', 'year', '-PRON-', 'tell', '-PRON-', 'no', '.', 'the', 'next', 'day', '-PRON-', 'be', 'name', 'Special', 'Counsel', '-', 'A', 'total', 'conflict', 'of', 'Interest', '.', 'nice', '!']\n"
     ]
    }
   ],
   "source": [
    "print([t.lemma_ for t in doc])"
   ]
  },
  {
   "cell_type": "code",
   "execution_count": 21,
   "metadata": {},
   "outputs": [
    {
     "data": {
      "text/plain": [
       "[('Robert Mueller', 'PERSON'),\n",
       " ('the Oval Office', 'ORG'),\n",
       " ('FBI', 'ORG'),\n",
       " ('12 years', 'DATE'),\n",
       " ('The next day', 'DATE'),\n",
       " ('Special Counsel - A', 'ORG'),\n",
       " ('Conflict of Interest', 'ORG')]"
      ]
     },
     "execution_count": 21,
     "metadata": {},
     "output_type": "execute_result"
    }
   ],
   "source": [
    "[(ent.text, ent.label_) for ent in doc.ents]"
   ]
  },
  {
   "cell_type": "code",
   "execution_count": 22,
   "metadata": {},
   "outputs": [
    {
     "name": "stdout",
     "output_type": "stream",
     "text": [
      "[('Robert', 'PROPN'), ('Mueller', 'PROPN'), ('came', 'VERB'), ('to', 'ADP'), ('the', 'DET'), ('Oval', 'PROPN'), ('Office', 'PROPN'), ('(', 'PUNCT'), ('along', 'ADP'), ('with', 'ADP'), ('other', 'ADJ'), ('potential', 'ADJ'), ('candidates', 'NOUN'), (')', 'PUNCT'), ('seeking', 'VERB'), ('to', 'PART'), ('be', 'VERB'), ('named', 'VERB'), ('the', 'DET'), ('Director', 'PROPN'), ('of', 'ADP'), ('the', 'DET'), ('FBI', 'PROPN'), ('.', 'PUNCT'), ('He', 'PRON'), ('had', 'VERB'), ('already', 'ADV'), ('been', 'VERB'), ('in', 'ADP'), ('that', 'DET'), ('position', 'NOUN'), ('for', 'ADP'), ('12', 'NUM'), ('years', 'NOUN'), ('I', 'PRON'), ('told', 'VERB'), ('him', 'PRON'), ('NO', 'INTJ'), ('.', 'PUNCT'), ('The', 'DET'), ('next', 'ADJ'), ('day', 'NOUN'), ('he', 'PRON'), ('was', 'VERB'), ('named', 'VERB'), ('Special', 'PROPN'), ('Counsel', 'PROPN'), ('-', 'PUNCT'), ('A', 'PROPN'), ('total', 'ADJ'), ('Conflict', 'NOUN'), ('of', 'ADP'), ('Interest', 'PROPN'), ('.', 'PUNCT'), ('NICE', 'INTJ'), ('!', 'PUNCT')]\n"
     ]
    }
   ],
   "source": [
    "print([(token.text, token.pos_) for token in doc])"
   ]
  },
  {
   "cell_type": "code",
   "execution_count": 23,
   "metadata": {
    "scrolled": true
   },
   "outputs": [
    {
     "name": "stdout",
     "output_type": "stream",
     "text": [
      "['Robert', 'Mueller', 'came', 'to', 'the', 'Oval', 'Office', '(', 'along', 'with', 'other', 'potential', 'candidates', ')', 'seeking', 'to', 'be', 'named', 'the', 'Director', 'of', 'the', 'FBI', '.', 'He', 'had', 'already', 'been', 'in', 'that', 'position', 'for', '12', 'years', 'I', 'told', 'him', 'NO', '.', 'The', 'next', 'day', 'he', 'was', 'named', 'Special', 'Counsel', '-', 'A', 'total', 'Conflict', 'of', 'Interest', '.', 'NICE', '!']\n"
     ]
    }
   ],
   "source": [
    "print([t.text for t in doc])"
   ]
  },
  {
   "cell_type": "markdown",
   "metadata": {},
   "source": [
    "### Disable NER (Named Entity Recognizer)"
   ]
  },
  {
   "cell_type": "code",
   "execution_count": 57,
   "metadata": {},
   "outputs": [
    {
     "data": {
      "text/plain": [
       "[('tagger', <spacy.pipeline.pipes.Tagger at 0x7f7035918160>),\n",
       " ('parser', <spacy.pipeline.pipes.DependencyParser at 0x7f703594d6a8>)]"
      ]
     },
     "execution_count": 57,
     "metadata": {},
     "output_type": "execute_result"
    }
   ],
   "source": [
    "nlp = spacy.load('en_core_web_sm', disable=['ner'])\n",
    "nlp.pipeline"
   ]
  },
  {
   "cell_type": "code",
   "execution_count": 58,
   "metadata": {},
   "outputs": [],
   "source": [
    "index_doc = 0\n",
    "\n",
    "doc = nlp(raw_docs[index_doc])"
   ]
  },
  {
   "cell_type": "code",
   "execution_count": 59,
   "metadata": {},
   "outputs": [
    {
     "name": "stdout",
     "output_type": "stream",
     "text": [
      "['Robert', 'Mueller', 'come', 'to', 'the', 'Oval', 'Office', '(', 'along', 'with', 'other', 'potential', 'candidate', ')', 'seek', 'to', 'be', 'name', 'the', 'Director', 'of', 'the', 'FBI', '.', '-PRON-', 'have', 'already', 'be', 'in', 'that', 'position', 'for', '12', 'year', '-PRON-', 'tell', '-PRON-', 'no', '.', 'the', 'next', 'day', '-PRON-', 'be', 'name', 'Special', 'Counsel', '-', 'A', 'total', 'conflict', 'of', 'Interest', '.', 'nice', '!']\n"
     ]
    }
   ],
   "source": [
    "print([t.lemma_ for t in doc])"
   ]
  },
  {
   "cell_type": "code",
   "execution_count": 60,
   "metadata": {},
   "outputs": [
    {
     "data": {
      "text/plain": [
       "[]"
      ]
     },
     "execution_count": 60,
     "metadata": {},
     "output_type": "execute_result"
    }
   ],
   "source": [
    "[(ent.text, ent.label_) for ent in doc.ents]"
   ]
  },
  {
   "cell_type": "code",
   "execution_count": 61,
   "metadata": {},
   "outputs": [
    {
     "name": "stdout",
     "output_type": "stream",
     "text": [
      "[('Robert', 'PROPN'), ('Mueller', 'PROPN'), ('came', 'VERB'), ('to', 'ADP'), ('the', 'DET'), ('Oval', 'PROPN'), ('Office', 'PROPN'), ('(', 'PUNCT'), ('along', 'ADP'), ('with', 'ADP'), ('other', 'ADJ'), ('potential', 'ADJ'), ('candidates', 'NOUN'), (')', 'PUNCT'), ('seeking', 'VERB'), ('to', 'PART'), ('be', 'VERB'), ('named', 'VERB'), ('the', 'DET'), ('Director', 'PROPN'), ('of', 'ADP'), ('the', 'DET'), ('FBI', 'PROPN'), ('.', 'PUNCT'), ('He', 'PRON'), ('had', 'VERB'), ('already', 'ADV'), ('been', 'VERB'), ('in', 'ADP'), ('that', 'DET'), ('position', 'NOUN'), ('for', 'ADP'), ('12', 'NUM'), ('years', 'NOUN'), ('I', 'PRON'), ('told', 'VERB'), ('him', 'PRON'), ('NO', 'INTJ'), ('.', 'PUNCT'), ('The', 'DET'), ('next', 'ADJ'), ('day', 'NOUN'), ('he', 'PRON'), ('was', 'VERB'), ('named', 'VERB'), ('Special', 'PROPN'), ('Counsel', 'PROPN'), ('-', 'PUNCT'), ('A', 'PROPN'), ('total', 'ADJ'), ('Conflict', 'NOUN'), ('of', 'ADP'), ('Interest', 'PROPN'), ('.', 'PUNCT'), ('NICE', 'INTJ'), ('!', 'PUNCT')]\n"
     ]
    }
   ],
   "source": [
    "print([(token.text, token.pos_) for token in doc])"
   ]
  },
  {
   "cell_type": "markdown",
   "metadata": {},
   "source": [
    "### Disable ALL"
   ]
  },
  {
   "cell_type": "code",
   "execution_count": 62,
   "metadata": {},
   "outputs": [
    {
     "data": {
      "text/plain": [
       "[]"
      ]
     },
     "execution_count": 62,
     "metadata": {},
     "output_type": "execute_result"
    }
   ],
   "source": [
    "nlp = spacy.load('en_core_web_sm', disable=['tagger', 'ner', 'parser'])\n",
    "nlp.pipeline"
   ]
  },
  {
   "cell_type": "code",
   "execution_count": 63,
   "metadata": {},
   "outputs": [],
   "source": [
    "index_doc = 0\n",
    "\n",
    "doc = nlp(raw_docs[index_doc])"
   ]
  },
  {
   "cell_type": "code",
   "execution_count": 64,
   "metadata": {},
   "outputs": [
    {
     "name": "stdout",
     "output_type": "stream",
     "text": [
      "['Robert', 'Mueller', 'came', 'to', 'the', 'Oval', 'Office', '(', 'along', 'with', 'other', 'potential', 'candidates', ')', 'seeking', 'to', 'be', 'named', 'the', 'Director', 'of', 'the', 'FBI', '.', 'He', 'had', 'already', 'been', 'in', 'that', 'position', 'for', '12', 'years', 'I', 'told', 'him', 'NO', '.', 'The', 'next', 'day', 'he', 'was', 'named', 'Special', 'Counsel', '-', 'A', 'total', 'Conflict', 'of', 'Interest', '.', 'NICE', '!']\n"
     ]
    }
   ],
   "source": [
    "print([t.text for t in doc])"
   ]
  },
  {
   "cell_type": "code",
   "execution_count": 65,
   "metadata": {},
   "outputs": [
    {
     "name": "stdout",
     "output_type": "stream",
     "text": [
      "['Robert', 'Mueller', 'come', 'to', 'the', 'Oval', 'Office', '(', 'along', 'with', 'other', 'potential', 'candidate', ')', 'seek', 'to', 'be', 'name', 'the', 'Director', 'of', 'the', 'FBI', '.', 'He', 'have', 'already', 'be', 'in', 'that', 'position', 'for', '12', 'year', 'I', 'tell', 'him', 'NO', '.', 'The', 'next', 'day', 'he', 'be', 'name', 'Special', 'Counsel', '-', 'A', 'total', 'Conflict', 'of', 'Interest', '.', 'NICE', '!']\n"
     ]
    }
   ],
   "source": [
    "print([t.lemma_ for t in doc])"
   ]
  },
  {
   "cell_type": "code",
   "execution_count": 26,
   "metadata": {},
   "outputs": [
    {
     "data": {
      "text/plain": [
       "[]"
      ]
     },
     "execution_count": 26,
     "metadata": {},
     "output_type": "execute_result"
    }
   ],
   "source": [
    "[(ent.text, ent.label_) for ent in doc.ents]"
   ]
  },
  {
   "cell_type": "code",
   "execution_count": 27,
   "metadata": {},
   "outputs": [
    {
     "name": "stdout",
     "output_type": "stream",
     "text": [
      "[('Robert', ''), ('Mueller', ''), ('came', ''), ('to', ''), ('the', ''), ('Oval', ''), ('Office', ''), ('(', ''), ('along', ''), ('with', ''), ('other', ''), ('potential', ''), ('candidates', ''), (')', ''), ('seeking', ''), ('to', ''), ('be', ''), ('named', ''), ('the', ''), ('Director', ''), ('of', ''), ('the', ''), ('FBI', ''), ('.', ''), ('He', ''), ('had', ''), ('already', ''), ('been', ''), ('in', ''), ('that', ''), ('position', ''), ('for', ''), ('12', ''), ('years', ''), ('I', ''), ('told', ''), ('him', ''), ('NO', ''), ('.', ''), ('The', ''), ('next', ''), ('day', ''), ('he', ''), ('was', ''), ('named', ''), ('Special', ''), ('Counsel', ''), ('-', ''), ('A', ''), ('total', ''), ('Conflict', ''), ('of', ''), ('Interest', ''), ('.', ''), ('NICE', ''), ('!', '')]\n"
     ]
    }
   ],
   "source": [
    "print([(token.text, token.pos_) for token in doc])"
   ]
  },
  {
   "cell_type": "code",
   "execution_count": 28,
   "metadata": {
    "scrolled": true
   },
   "outputs": [
    {
     "name": "stdout",
     "output_type": "stream",
     "text": [
      "['Robert', 'Mueller', 'came', 'to', 'the', 'Oval', 'Office', '(', 'along', 'with', 'other', 'potential', 'candidates', ')', 'seeking', 'to', 'be', 'named', 'the', 'Director', 'of', 'the', 'FBI', '.', 'He', 'had', 'already', 'been', 'in', 'that', 'position', 'for', '12', 'years', 'I', 'told', 'him', 'NO', '.', 'The', 'next', 'day', 'he', 'was', 'named', 'Special', 'Counsel', '-', 'A', 'total', 'Conflict', 'of', 'Interest', '.', 'NICE', '!']\n"
     ]
    }
   ],
   "source": [
    "print([t.text for t in doc])"
   ]
  },
  {
   "cell_type": "markdown",
   "metadata": {},
   "source": [
    "# Implement Preprocessor"
   ]
  },
  {
   "cell_type": "code",
   "execution_count": 29,
   "metadata": {},
   "outputs": [],
   "source": [
    "nlp = spacy.load('en_core_web_sm', disable=['ner', 'parser'])"
   ]
  },
  {
   "cell_type": "markdown",
   "metadata": {},
   "source": [
    "#### Lemmatize"
   ]
  },
  {
   "cell_type": "code",
   "execution_count": 30,
   "metadata": {},
   "outputs": [],
   "source": [
    "index_doc = 0\n",
    "\n",
    "doc = nlp(raw_docs[index_doc])\n",
    "\n",
    "# Lemmatize\n",
    "text = [token.lemma_ for token in doc]"
   ]
  },
  {
   "cell_type": "code",
   "execution_count": 31,
   "metadata": {},
   "outputs": [
    {
     "name": "stdout",
     "output_type": "stream",
     "text": [
      "Robert Mueller came to the Oval Office (along with other potential candidates) seeking to be named the Director of the FBI. He had already been in that position for 12 years I told him NO. The next day he was named Special Counsel - A total Conflict of Interest. NICE!\n"
     ]
    }
   ],
   "source": [
    "print(raw_docs[index_doc])"
   ]
  },
  {
   "cell_type": "code",
   "execution_count": 32,
   "metadata": {},
   "outputs": [
    {
     "name": "stdout",
     "output_type": "stream",
     "text": [
      "['Robert', 'Mueller', 'come', 'to', 'the', 'Oval', 'Office', '(', 'along', 'with', 'other', 'potential', 'candidate', ')', 'seek', 'to', 'be', 'name', 'the', 'Director', 'of', 'the', 'FBI', '.', '-PRON-', 'have', 'already', 'be', 'in', 'that', 'position', 'for', '12', 'year', '-PRON-', 'tell', '-PRON-', 'no', '.', 'the', 'next', 'day', '-PRON-', 'be', 'name', 'Special', 'Counsel', '-', 'A', 'total', 'conflict', 'of', 'Interest', '.', 'nice', '!']\n"
     ]
    }
   ],
   "source": [
    "print(text)"
   ]
  },
  {
   "cell_type": "markdown",
   "metadata": {},
   "source": [
    "#### Remove Stopwords"
   ]
  },
  {
   "cell_type": "code",
   "execution_count": 33,
   "metadata": {},
   "outputs": [],
   "source": [
    "text = [token.lemma_ for token in doc if not token.is_stop]"
   ]
  },
  {
   "cell_type": "code",
   "execution_count": 34,
   "metadata": {},
   "outputs": [
    {
     "name": "stdout",
     "output_type": "stream",
     "text": [
      "['Robert', 'Mueller', 'come', 'Oval', 'Office', '(', 'potential', 'candidate', ')', 'seek', 'name', 'Director', 'FBI', '.', 'position', '12', 'year', 'tell', '.', 'day', 'name', 'Special', 'Counsel', '-', 'total', 'conflict', 'Interest', '.', 'nice', '!']\n"
     ]
    }
   ],
   "source": [
    "print(text)"
   ]
  },
  {
   "cell_type": "markdown",
   "metadata": {},
   "source": [
    "#### Remove Punctuations"
   ]
  },
  {
   "cell_type": "code",
   "execution_count": 35,
   "metadata": {},
   "outputs": [],
   "source": [
    "text = [token.lemma_ for token in doc if not token.is_stop and not token.is_punct]"
   ]
  },
  {
   "cell_type": "code",
   "execution_count": 36,
   "metadata": {},
   "outputs": [
    {
     "name": "stdout",
     "output_type": "stream",
     "text": [
      "['Robert', 'Mueller', 'come', 'Oval', 'Office', 'potential', 'candidate', 'seek', 'name', 'Director', 'FBI', 'position', '12', 'year', 'tell', 'day', 'name', 'Special', 'Counsel', 'total', 'conflict', 'Interest', 'nice']\n"
     ]
    }
   ],
   "source": [
    "print(text)"
   ]
  },
  {
   "cell_type": "code",
   "execution_count": 37,
   "metadata": {
    "scrolled": true
   },
   "outputs": [
    {
     "name": "stdout",
     "output_type": "stream",
     "text": [
      "['Robert', 'Mueller', 'come', 'to', 'the', 'Oval', 'Office', 'along', 'with', 'other', 'potential', 'candidate', 'seek', 'to', 'be', 'name', 'the', 'Director', 'of', 'the', 'FBI', '-PRON-', 'have', 'already', 'be', 'in', 'that', 'position', 'for', '12', 'year', '-PRON-', 'tell', '-PRON-', 'no', 'the', 'next', 'day', '-PRON-', 'be', 'name', 'Special', 'Counsel', 'A', 'total', 'conflict', 'of', 'Interest', 'nice']\n"
     ]
    }
   ],
   "source": [
    "text = [token.lemma_ for token in doc if token.pos_ not in ('PUNCT')]\n",
    "print(text)"
   ]
  },
  {
   "cell_type": "markdown",
   "metadata": {},
   "source": [
    "# Define Function to Lemmatize and Remove Stopwords"
   ]
  },
  {
   "cell_type": "code",
   "execution_count": 38,
   "metadata": {},
   "outputs": [],
   "source": [
    "def cleaning(doc_spacy):\n",
    "    \"\"\"\n",
    "    Args:\n",
    "        tokens_spacy (spacy.tokens.doc.Doc):\n",
    "    \"\"\"\n",
    "    \n",
    "#     text = [token.lemma_ for token in doc_spacy if not token.is_stop and not token.is_punct]\n",
    "    text = [token.lemma_ for token in doc_spacy if token.pos_ not in ('PUNCT', 'NUM') and not token.is_stop]\n",
    "\n",
    "    \n",
    "    return text"
   ]
  },
  {
   "cell_type": "code",
   "execution_count": 39,
   "metadata": {},
   "outputs": [
    {
     "data": {
      "text/plain": [
       "'symbol'"
      ]
     },
     "execution_count": 39,
     "metadata": {},
     "output_type": "execute_result"
    }
   ],
   "source": [
    "spacy.explain('SYM')"
   ]
  },
  {
   "cell_type": "markdown",
   "metadata": {},
   "source": [
    "### Performance with Pipe\n",
    "Taking advantage of spaCy .pipe() attribute to speed-up the cleaning process:"
   ]
  },
  {
   "cell_type": "code",
   "execution_count": 40,
   "metadata": {},
   "outputs": [
    {
     "name": "stdout",
     "output_type": "stream",
     "text": [
      "CPU times: user 2.39 s, sys: 116 ms, total: 2.51 s\n",
      "Wall time: 2.51 s\n"
     ]
    }
   ],
   "source": [
    "# brief_cleaning = (re.sub(\"[^A-Za-z']+\", ' ', str(row)).lower() for row in raw_docs)\n",
    "\n",
    "brief_cleaning = (row.lower() for row in raw_docs)\n",
    "\n",
    "type(brief_cleaning)\n",
    "\n",
    "# %time texts = [cleaning(doc) for doc in nlp.pipe(raw_docs)]\n",
    "%time texts = [cleaning(doc) for doc in nlp.pipe(brief_cleaning, batch_size=100, n_threads=-1)]"
   ]
  },
  {
   "cell_type": "code",
   "execution_count": 41,
   "metadata": {},
   "outputs": [
    {
     "name": "stdout",
     "output_type": "stream",
     "text": [
      "['robert', 'mueller', 'come', 'oval', 'office', 'potential', 'candidate', 'seek', 'name', 'director', 'fbi', 'position', 'year', 'tell', 'day', 'name', 'special', 'counsel', 'total', 'conflict', 'interest', 'nice']\n"
     ]
    }
   ],
   "source": [
    "print(texts[0])"
   ]
  },
  {
   "cell_type": "markdown",
   "metadata": {},
   "source": [
    "### Performance without Pipe"
   ]
  },
  {
   "cell_type": "code",
   "execution_count": 42,
   "metadata": {},
   "outputs": [
    {
     "name": "stdout",
     "output_type": "stream",
     "text": [
      "CPU times: user 5.36 s, sys: 0 ns, total: 5.36 s\n",
      "Wall time: 5.36 s\n"
     ]
    }
   ],
   "source": [
    "def parse_forloop():\n",
    "    texts = [] \n",
    "    for d in raw_docs:\n",
    "        d = d.lower()\n",
    "        text = cleaning(nlp(d))\n",
    "        texts.append(text)\n",
    "        \n",
    "    return texts\n",
    "\n",
    "%time texts = parse_forloop()"
   ]
  },
  {
   "cell_type": "code",
   "execution_count": 43,
   "metadata": {},
   "outputs": [
    {
     "name": "stdout",
     "output_type": "stream",
     "text": [
      "['robert', 'mueller', 'come', 'oval', 'office', 'potential', 'candidate', 'seek', 'name', 'director', 'fbi', 'position', 'year', 'tell', 'day', 'name', 'special', 'counsel', 'total', 'conflict', 'interest', 'nice']\n"
     ]
    }
   ],
   "source": [
    "print(texts[0])"
   ]
  },
  {
   "cell_type": "code",
   "execution_count": null,
   "metadata": {},
   "outputs": [],
   "source": []
  },
  {
   "cell_type": "code",
   "execution_count": null,
   "metadata": {},
   "outputs": [],
   "source": []
  }
 ],
 "metadata": {
  "kernelspec": {
   "display_name": "Python 3",
   "language": "python",
   "name": "python3"
  },
  "language_info": {
   "codemirror_mode": {
    "name": "ipython",
    "version": 3
   },
   "file_extension": ".py",
   "mimetype": "text/x-python",
   "name": "python",
   "nbconvert_exporter": "python",
   "pygments_lexer": "ipython3",
   "version": "3.7.3"
  }
 },
 "nbformat": 4,
 "nbformat_minor": 2
}
